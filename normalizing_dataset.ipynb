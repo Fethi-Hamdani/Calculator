{
  "nbformat": 4,
  "nbformat_minor": 0,
  "metadata": {
    "colab": {
      "name": "normalizing dataset.ipynb",
      "provenance": [],
      "authorship_tag": "ABX9TyOBx9E+9ENqOT6L5SI48nK+",
      "include_colab_link": true
    },
    "kernelspec": {
      "name": "python3",
      "display_name": "Python 3"
    },
    "accelerator": "GPU"
  },
  "cells": [
    {
      "cell_type": "markdown",
      "metadata": {
        "id": "view-in-github",
        "colab_type": "text"
      },
      "source": [
        "<a href=\"https://colab.research.google.com/github/Fethi1/Calculator/blob/master/normalizing_dataset.ipynb\" target=\"_parent\"><img src=\"https://colab.research.google.com/assets/colab-badge.svg\" alt=\"Open In Colab\"/></a>"
      ]
    },
    {
      "cell_type": "code",
      "metadata": {
        "id": "HC5Q-PBHkZqf",
        "colab_type": "code",
        "colab": {
          "base_uri": "https://localhost:8080/",
          "height": 315
        },
        "outputId": "db1de743-e229-4a4f-8595-2dd96c9ddcdd"
      },
      "source": [
        "import csv\n",
        "import math\n",
        "import io\n",
        "import pandas as pd\n",
        "from PIL import Image\n",
        "import numpy as np\n",
        "import matplotlib.pyplot as plt\n",
        "\n",
        "i = 202\n",
        "\n",
        "labels = ['أ','ب','ت','ث','ج','ح','خ','د','ذ','ر','ز','س','ش','ص','ض','ط','ظ','ع','غ','ف','ق','ك','ل','م','ن','ه','و','ي']\n",
        "text = pd.read_csv(\"csvTestLabel 3360x1.csv\")\n",
        "data = text.values[:][:]\n",
        "fig = plt.figure(figsize=(4, 4))\n",
        "\n",
        "df = pd.read_csv('csvTestImages 3360x1024.csv') # read the training data file from working directory\n",
        "im_buf = df.values[i][0:] # create flat array of only the pixels of the given image \n",
        "axis_len = int(math.sqrt(im_buf.shape[0])) # calculate the dimensions of the square image\n",
        "im_array = np.int8(np.reshape(im_buf, (axis_len, axis_len))) # create a 2D array from flat array\n",
        "img = Image.fromarray(im_array,) # convert to a PIL.Image object ('L' is for grayscale)\n",
        "img = img.rotate(-90)\n",
        "img = img.transpose(Image.FLIP_LEFT_RIGHT)\n",
        "plt.imshow(np.asarray(img),cmap='gray')\n",
        "\n",
        "print(img.size)\n",
        "print(\"the label is : \"+labels[(int(data[i]) -1)])\n",
        "img1 = img.resize([28,28])\n",
        "plt.imshow(np.asarray(img1),cmap='gray')\n",
        "plt.show()\n",
        "print(img.size)"
      ],
      "execution_count": 175,
      "outputs": [
        {
          "output_type": "stream",
          "text": [
            "(32, 32)\n",
            "the label is : ع\n"
          ],
          "name": "stdout"
        },
        {
          "output_type": "display_data",
          "data": {
            "image/png": "[encoded data removed]",
            "text/plain": [
              "<Figure size 288x288 with 1 Axes>"
            ]
          },
          "metadata": {
            "tags": []
          }
        },
        {
          "output_type": "stream",
          "text": [
            "(32, 32)\n"
          ],
          "name": "stdout"
        }
      ]
    }
  ]
}